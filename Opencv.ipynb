{
  "nbformat": 4,
  "nbformat_minor": 0,
  "metadata": {
    "colab": {
      "name": "Opencv.ipynb",
      "provenance": [],
      "private_outputs": true,
      "collapsed_sections": [],
      "mount_file_id": "1vqGaUgDEsLxMoe5-_hRXRc7rttskomnC",
      "authorship_tag": "ABX9TyOyVQU07F+nu/9bvRMWm4Mq",
      "include_colab_link": true
    },
    "kernelspec": {
      "name": "python3",
      "display_name": "Python 3"
    },
    "accelerator": "GPU"
  },
  "cells": [
    {
      "cell_type": "markdown",
      "metadata": {
        "id": "view-in-github",
        "colab_type": "text"
      },
      "source": [
        "<a href=\"https://colab.research.google.com/github/sagar-demo/Opencv/blob/master/Opencv.ipynb\" target=\"_parent\"><img src=\"https://colab.research.google.com/assets/colab-badge.svg\" alt=\"Open In Colab\"/></a>"
      ]
    },
    {
      "cell_type": "code",
      "metadata": {
        "id": "FMDxLUaN3Ka8",
        "colab_type": "code",
        "colab": {}
      },
      "source": [
        "import numpy as np\n",
        "import cv2 as cv\n",
        "import matplotlib.pyplot as plt\n"
      ],
      "execution_count": null,
      "outputs": []
    },
    {
      "cell_type": "code",
      "metadata": {
        "id": "4W1rNLD94aKX",
        "colab_type": "code",
        "colab": {}
      },
      "source": [
        "## read image"
      ],
      "execution_count": null,
      "outputs": []
    },
    {
      "cell_type": "code",
      "metadata": {
        "id": "qJf_-r_q4vs-",
        "colab_type": "code",
        "colab": {}
      },
      "source": [
        "#load an color image in graysclae\n",
        "img=cv.imread('/content/drive/My Drive/images/katrina.jpg',0)"
      ],
      "execution_count": null,
      "outputs": []
    },
    {
      "cell_type": "code",
      "metadata": {
        "id": "DpdJNG-55Hrd",
        "colab_type": "code",
        "colab": {}
      },
      "source": [
        "# show image\n",
        "plt.imshow(img,cmap='gray',interpolation='bicubic')\n",
        "plt.xticks([]),plt.yticks([]) # to hide the tick values on x and y axis\n",
        "plt.show()"
      ],
      "execution_count": null,
      "outputs": []
    },
    {
      "cell_type": "code",
      "metadata": {
        "id": "cN2oFvfy5j9a",
        "colab_type": "code",
        "colab": {}
      },
      "source": [
        "## load the color images and show\n"
      ],
      "execution_count": null,
      "outputs": []
    },
    {
      "cell_type": "code",
      "metadata": {
        "id": "NXe8y42P7mk-",
        "colab_type": "code",
        "colab": {}
      },
      "source": [
        "# load a color image in color\n",
        "img=cv.imread('/content/drive/My Drive/images/katrina.jpg')\n",
        "plt.imshow(img,cmap='gray',interpolation='bicubic')\n",
        "plt.xticks([])\n",
        "plt.yticks([])\n",
        "plt.show()"
      ],
      "execution_count": null,
      "outputs": []
    },
    {
      "cell_type": "code",
      "metadata": {
        "id": "y7dLI7Ck8AuA",
        "colab_type": "code",
        "colab": {}
      },
      "source": [
        "## BGR to RGB conversion\n",
        "img=cv.imread('/content/drive/My Drive/images/katrina.jpg',1)\n",
        "img=cv.cvtColor(img,cv.COLOR_BGR2RGB)\n",
        "plt.imshow(img,interpolation='bicubic')\n",
        "plt.xticks([])\n",
        "plt.yticks([]) # to hide tick values on x and y axis\n",
        "plt.show()\n"
      ],
      "execution_count": null,
      "outputs": []
    },
    {
      "cell_type": "code",
      "metadata": {
        "id": "jbL7Jxot9y0F",
        "colab_type": "code",
        "colab": {}
      },
      "source": [
        ""
      ],
      "execution_count": null,
      "outputs": []
    }
  ]
}